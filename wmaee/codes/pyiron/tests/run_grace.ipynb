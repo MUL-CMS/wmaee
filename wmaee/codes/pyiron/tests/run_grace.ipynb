{
 "cells": [
  {
   "cell_type": "code",
   "execution_count": 1,
   "id": "187659dc",
   "metadata": {},
   "outputs": [
    {
     "data": {
      "application/vnd.jupyter.widget-view+json": {
       "model_id": "a233644ab619493d977ab50eb6d48069",
       "version_major": 2,
       "version_minor": 0
      },
      "text/plain": []
     },
     "metadata": {},
     "output_type": "display_data"
    },
    {
     "name": "stderr",
     "output_type": "stream",
     "text": [
      "/home/amin/anaconda3/envs/pyiron/lib/python3.11/site-packages/nglview/__init__.py:12: UserWarning: pkg_resources is deprecated as an API. See https://setuptools.pypa.io/en/latest/pkg_resources.html. The pkg_resources package is slated for removal as early as 2025-11-30. Refrain from using this package or pin to Setuptools<81.\n",
      "  import pkg_resources\n",
      "2025-09-12 11:49:41.540757: I tensorflow/core/util/port.cc:113] oneDNN custom operations are on. You may see slightly different numerical results due to floating-point round-off errors from different computation orders. To turn them off, set the environment variable `TF_ENABLE_ONEDNN_OPTS=0`.\n",
      "2025-09-12 11:49:41.541810: I external/local_tsl/tsl/cuda/cudart_stub.cc:32] Could not find cuda drivers on your machine, GPU will not be used.\n",
      "2025-09-12 11:49:41.546697: I external/local_tsl/tsl/cuda/cudart_stub.cc:32] Could not find cuda drivers on your machine, GPU will not be used.\n",
      "2025-09-12 11:49:41.558547: E external/local_xla/xla/stream_executor/cuda/cuda_fft.cc:479] Unable to register cuFFT factory: Attempting to register factory for plugin cuFFT when one has already been registered\n",
      "2025-09-12 11:49:41.577843: E external/local_xla/xla/stream_executor/cuda/cuda_dnn.cc:10575] Unable to register cuDNN factory: Attempting to register factory for plugin cuDNN when one has already been registered\n",
      "2025-09-12 11:49:41.577874: E external/local_xla/xla/stream_executor/cuda/cuda_blas.cc:1442] Unable to register cuBLAS factory: Attempting to register factory for plugin cuBLAS when one has already been registered\n",
      "2025-09-12 11:49:41.590148: I tensorflow/core/platform/cpu_feature_guard.cc:210] This TensorFlow binary is optimized to use available CPU instructions in performance-critical operations.\n",
      "To enable the following instructions: AVX2 AVX512F AVX512_VNNI FMA, in other operations, rebuild TensorFlow with the appropriate compiler flags.\n",
      "2025-09-12 11:49:42.649384: W tensorflow/compiler/tf2tensorrt/utils/py_utils.cc:38] TF-TRT Warning: Could not find TensorRT\n"
     ]
    }
   ],
   "source": [
    "from pyiron_atomistics import Project\n",
    "import sys\n",
    "sys.path.append(\"/home/amin/projects/mul/wmaee/wmaee/codes/pyiron\")\n",
    "from pyiron_GRACE_job import Grace\n",
    "from tensorpotential.calculator import grace_fm\n",
    "from tensorpotential.calculator import TPCalculator\n",
    "import matplotlib.pyplot as plt"
   ]
  },
  {
   "cell_type": "code",
   "execution_count": 2,
   "id": "f1deef07",
   "metadata": {},
   "outputs": [
    {
     "data": {
      "text/html": [
       "<div>\n",
       "<style scoped>\n",
       "    .dataframe tbody tr th:only-of-type {\n",
       "        vertical-align: middle;\n",
       "    }\n",
       "\n",
       "    .dataframe tbody tr th {\n",
       "        vertical-align: top;\n",
       "    }\n",
       "\n",
       "    .dataframe thead th {\n",
       "        text-align: right;\n",
       "    }\n",
       "</style>\n",
       "<table border=\"1\" class=\"dataframe\">\n",
       "  <thead>\n",
       "    <tr style=\"text-align: right;\">\n",
       "      <th></th>\n",
       "      <th>id</th>\n",
       "      <th>status</th>\n",
       "      <th>chemicalformula</th>\n",
       "      <th>job</th>\n",
       "      <th>subjob</th>\n",
       "      <th>projectpath</th>\n",
       "      <th>project</th>\n",
       "      <th>timestart</th>\n",
       "      <th>timestop</th>\n",
       "      <th>totalcputime</th>\n",
       "      <th>computer</th>\n",
       "      <th>hamilton</th>\n",
       "      <th>hamversion</th>\n",
       "      <th>parentid</th>\n",
       "      <th>masterid</th>\n",
       "    </tr>\n",
       "  </thead>\n",
       "  <tbody>\n",
       "    <tr>\n",
       "      <th>0</th>\n",
       "      <td>1</td>\n",
       "      <td>finished</td>\n",
       "      <td>Fe8</td>\n",
       "      <td>Fe_static</td>\n",
       "      <td>/Fe_static</td>\n",
       "      <td>None</td>\n",
       "      <td>/home/amin/projects/mul/wmaee/wmaee/codes/pyiron/tests/grace_test/</td>\n",
       "      <td>2025-09-12 11:12:15.880776</td>\n",
       "      <td>2025-09-12 11:12:29.743192</td>\n",
       "      <td>13.0</td>\n",
       "      <td>pyiron@Nero#1</td>\n",
       "      <td>Grace</td>\n",
       "      <td>0.1</td>\n",
       "      <td>None</td>\n",
       "      <td>None</td>\n",
       "    </tr>\n",
       "    <tr>\n",
       "      <th>1</th>\n",
       "      <td>2</td>\n",
       "      <td>finished</td>\n",
       "      <td>Fe7Mo</td>\n",
       "      <td>large_Fe_relax</td>\n",
       "      <td>/large_Fe_relax</td>\n",
       "      <td>None</td>\n",
       "      <td>/home/amin/projects/mul/wmaee/wmaee/codes/pyiron/tests/grace_test/</td>\n",
       "      <td>2025-09-12 11:16:12.716929</td>\n",
       "      <td>2025-09-12 11:16:28.256037</td>\n",
       "      <td>15.0</td>\n",
       "      <td>pyiron@Nero#1</td>\n",
       "      <td>Grace</td>\n",
       "      <td>0.1</td>\n",
       "      <td>None</td>\n",
       "      <td>None</td>\n",
       "    </tr>\n",
       "    <tr>\n",
       "      <th>2</th>\n",
       "      <td>3</td>\n",
       "      <td>finished</td>\n",
       "      <td>Fe127Mo</td>\n",
       "      <td>large_Fe_relax_omat</td>\n",
       "      <td>/large_Fe_relax_omat</td>\n",
       "      <td>None</td>\n",
       "      <td>/home/amin/projects/mul/wmaee/wmaee/codes/pyiron/tests/grace_test/</td>\n",
       "      <td>2025-09-12 11:22:59.969521</td>\n",
       "      <td>2025-09-12 11:31:19.020239</td>\n",
       "      <td>499.0</td>\n",
       "      <td>pyiron@Nero#1</td>\n",
       "      <td>Grace</td>\n",
       "      <td>0.1</td>\n",
       "      <td>None</td>\n",
       "      <td>None</td>\n",
       "    </tr>\n",
       "  </tbody>\n",
       "</table>\n",
       "</div>"
      ],
      "text/plain": [
       "   id    status chemicalformula                  job                subjob  \\\n",
       "0   1  finished             Fe8            Fe_static            /Fe_static   \n",
       "1   2  finished           Fe7Mo       large_Fe_relax       /large_Fe_relax   \n",
       "2   3  finished         Fe127Mo  large_Fe_relax_omat  /large_Fe_relax_omat   \n",
       "\n",
       "  projectpath  \\\n",
       "0        None   \n",
       "1        None   \n",
       "2        None   \n",
       "\n",
       "                                                              project  \\\n",
       "0  /home/amin/projects/mul/wmaee/wmaee/codes/pyiron/tests/grace_test/   \n",
       "1  /home/amin/projects/mul/wmaee/wmaee/codes/pyiron/tests/grace_test/   \n",
       "2  /home/amin/projects/mul/wmaee/wmaee/codes/pyiron/tests/grace_test/   \n",
       "\n",
       "                   timestart                   timestop  totalcputime  \\\n",
       "0 2025-09-12 11:12:15.880776 2025-09-12 11:12:29.743192          13.0   \n",
       "1 2025-09-12 11:16:12.716929 2025-09-12 11:16:28.256037          15.0   \n",
       "2 2025-09-12 11:22:59.969521 2025-09-12 11:31:19.020239         499.0   \n",
       "\n",
       "        computer hamilton hamversion parentid masterid  \n",
       "0  pyiron@Nero#1    Grace        0.1     None     None  \n",
       "1  pyiron@Nero#1    Grace        0.1     None     None  \n",
       "2  pyiron@Nero#1    Grace        0.1     None     None  "
      ]
     },
     "execution_count": 2,
     "metadata": {},
     "output_type": "execute_result"
    }
   ],
   "source": [
    "pr = Project(\"grace_test\")\n",
    "pr.job_table()"
   ]
  },
  {
   "cell_type": "code",
   "execution_count": 3,
   "id": "4c3c1c85",
   "metadata": {},
   "outputs": [
    {
     "data": {
      "text/plain": [
       "array([[ 0.   ,  0.   ,  0.   ],\n",
       "       [ 1.435,  1.435, -1.435],\n",
       "       [ 1.435, -1.435,  1.435],\n",
       "       [ 2.87 ,  0.   ,  0.   ],\n",
       "       [-1.435,  1.435,  1.435],\n",
       "       [ 0.   ,  2.87 ,  0.   ],\n",
       "       [ 0.   ,  0.   ,  2.87 ],\n",
       "       [ 1.435,  1.435,  1.435]])"
      ]
     },
     "execution_count": 3,
     "metadata": {},
     "output_type": "execute_result"
    }
   ],
   "source": [
    "Fe = pr.create.structure.bulk(\"Fe\").repeat((2, 2, 2))\n",
    "Fe.positions"
   ]
  },
  {
   "cell_type": "code",
   "execution_count": 4,
   "id": "45e364af",
   "metadata": {},
   "outputs": [
    {
     "data": {
      "application/vnd.jupyter.widget-view+json": {
       "model_id": "111509014cc24ae7bb3904414285df2c",
       "version_major": 2,
       "version_minor": 0
      },
      "text/plain": [
       "NGLWidget()"
      ]
     },
     "metadata": {},
     "output_type": "display_data"
    }
   ],
   "source": [
    "Fe.rattle(stdev=0.01, seed=42)\n",
    "Fe.plot3d()"
   ]
  },
  {
   "cell_type": "markdown",
   "id": "a041b2e7",
   "metadata": {},
   "source": [
    "## Relaxation"
   ]
  },
  {
   "cell_type": "markdown",
   "id": "fcdce4a1",
   "metadata": {},
   "source": [
    "### Create a Grace job for relaxing the atomic positions"
   ]
  },
  {
   "cell_type": "code",
   "execution_count": 5,
   "id": "70b1991e",
   "metadata": {},
   "outputs": [],
   "source": [
    "job = pr.create_job(job_type=Grace, job_name=\"Fe_relax_atoms\")\n",
    "job.structure = Fe"
   ]
  },
  {
   "cell_type": "code",
   "execution_count": 6,
   "id": "107db6c5",
   "metadata": {},
   "outputs": [
    {
     "name": "stderr",
     "output_type": "stream",
     "text": [
      "/home/amin/anaconda3/envs/pyiron/lib/python3.11/site-packages/pyiron_base/storage/parameters.py:286: UserWarning: The input in GenericParameters changed, while the state of the job was already finished.\n",
      "  warnings.warn(\n"
     ]
    },
    {
     "name": "stdout",
     "output_type": "stream",
     "text": [
      "Trajectory name: relax.traj\n",
      "The job Fe_relax_atoms was saved and received the ID: 12\n",
      "Index(['Step', 'Time', 'Energy', 'fmax'], dtype='object')\n",
      "Printed energies: FIRE:   -66.074232\n",
      "FIRE:   -66.076673\n",
      "FIRE:   -66.080283\n",
      "FIRE:   -66.083229\n",
      "Name: Energy, dtype: float64\n",
      "Parsing minimize calculation output        Step      Time     Energy      fmax\n",
      "FIRE:     0  20:07:34 -66.074232  0.249639\n",
      "FIRE:     1  20:07:34 -66.076673  0.218542\n",
      "FIRE:     2  20:07:35 -66.080283  0.161214\n",
      "FIRE:     3  20:07:35 -66.083229  0.087799\n",
      "<bound method NDFrame.keys of        Step      Time     Energy      fmax\n",
      "FIRE:     0  20:07:34 -66.074232  0.249639\n",
      "FIRE:     1  20:07:34 -66.076673  0.218542\n",
      "FIRE:     2  20:07:35 -66.080283  0.161214\n",
      "FIRE:     3  20:07:35 -66.083229  0.087799>\n"
     ]
    }
   ],
   "source": [
    "job.calc_minimize()\n",
    "job.run(delete_existing_job=True)"
   ]
  },
  {
   "cell_type": "code",
   "execution_count": 7,
   "id": "b5dca0a4",
   "metadata": {},
   "outputs": [
    {
     "data": {
      "text/plain": [
       "[<matplotlib.lines.Line2D at 0x7f0f95627890>]"
      ]
     },
     "execution_count": 7,
     "metadata": {},
     "output_type": "execute_result"
    },
    {
     "data": {
      "image/png": "[encoded data removed]",
      "text/plain": [
       "<Figure size 640x480 with 1 Axes>"
      ]
     },
     "metadata": {},
     "output_type": "display_data"
    }
   ],
   "source": [
    "plt.plot(job.output.energy_tot, marker=\"o\", label=\"Total energy\")"
   ]
  },
  {
   "cell_type": "markdown",
   "id": "d526158f",
   "metadata": {},
   "source": [
    "### Create a grace job for relaxing the atomic positions and volume and shape of cell"
   ]
  },
  {
   "cell_type": "code",
   "execution_count": 30,
   "id": "cf1967bf",
   "metadata": {},
   "outputs": [],
   "source": [
    "job_relax = pr.create_job(job_type=Grace, job_name=\"Fe_relax_atoms_and_cell\")\n",
    "job_relax.structure = Fe"
   ]
  },
  {
   "cell_type": "code",
   "execution_count": 26,
   "id": "1dc8f9b2",
   "metadata": {},
   "outputs": [
    {
     "name": "stdout",
     "output_type": "stream",
     "text": [
      "\u001b[31mSignature:\u001b[39m\n",
      "job_relax.calc_minimize(\n",
      "    grace_model: Literal[\u001b[33m'GRACE-1L-MP-r6'\u001b[39m, \u001b[33m'GRACE-2L-MP-r5'\u001b[39m, \u001b[33m'GRACE-2L-MP-r6'\u001b[39m, \u001b[33m'GRACE-FS-OAM'\u001b[39m, \u001b[33m'GRACE-1L-OAM'\u001b[39m, \u001b[33m'GRACE-2L-OAM'\u001b[39m, \u001b[33m'GRACE-FS-OMAT'\u001b[39m, \u001b[33m'GRACE-1L-OMAT'\u001b[39m, \u001b[33m'GRACE-2L-OMAT'\u001b[39m] = \u001b[33m'GRACE-2L-OMAT'\u001b[39m,\n",
      "    algorithm: Literal[\u001b[33m'FIRE'\u001b[39m, \u001b[33m'BFGS'\u001b[39m, \u001b[33m'LBFGS'\u001b[39m] = \u001b[33m'FIRE'\u001b[39m,\n",
      "    algorithm_kwargs: dict = \u001b[38;5;28;01mNone\u001b[39;00m,\n",
      "    relax_cell: bool | \u001b[38;5;28;01mNone\u001b[39;00m = \u001b[38;5;28;01mFalse\u001b[39;00m,\n",
      "    relax_cell_kwargs: dict = \u001b[38;5;28;01mNone\u001b[39;00m,\n",
      "    ionic_force_tolerance: float = \u001b[32m0.1\u001b[39m,\n",
      "    max_iter: int = \u001b[32m500\u001b[39m,\n",
      "    n_print: int = \u001b[32m1\u001b[39m,\n",
      "    save_path: str | \u001b[38;5;28;01mNone\u001b[39;00m = \u001b[33m'relax.traj'\u001b[39m,\n",
      ")\n",
      "\u001b[31mDocstring:\u001b[39m\n",
      "Perform a structure relaxation (geometry optimization).\n",
      "\n",
      "Parameters\n",
      "----------\n",
      "grace_model : str,\n",
      "    The Grace model to use for the calculation. Default is \"GRACE-2L-OMAT\".\n",
      "algorithm : str, optional\n",
      "    Choose an ASE algorithm for the ionic relaxation. Default is \"FIRE\".\n",
      "algorithm_kwargs: dict, optional\n",
      "    Additional keyword arguments for the chosen algorithm. Default is None.\n",
      "relax_cell : bool or None, optional\n",
      "    Whether to allow relaxation of the simulation cell (default is False).\n",
      "relax_cell_kwargs: dict, optional\n",
      "    Additional keyword arguments for cell relaxation (default is None).\n",
      "ionic_force_tolerance : float, optional\n",
      "    Convergence criterion for forces (default is 0.1 eV/Å).\n",
      "max_iter : int, optional\n",
      "    Maximum number of iterations (default is 500).\n",
      "n_print : int, optional\n",
      "    Frequency of logging output (default is 1).\n",
      "save_path : str or None, optional\n",
      "    Path to save the trajectory file (default is 'relax.traj').\n",
      "\u001b[31mFile:\u001b[39m      ~/projects/mul/wmaee/wmaee/codes/pyiron/pyiron_GRACE_job.py\n",
      "\u001b[31mType:\u001b[39m      method"
     ]
    }
   ],
   "source": [
    "job_relax.calc_minimize?"
   ]
  },
  {
   "cell_type": "code",
   "execution_count": 27,
   "id": "d4805eb0",
   "metadata": {},
   "outputs": [
    {
     "name": "stdout",
     "output_type": "stream",
     "text": [
      "Trajectory name: relax.traj\n",
      "The job Fe_relax_atoms_and_cell was saved and received the ID: 13\n",
      "Index(['Step', 'Time', 'Energy', 'fmax'], dtype='object')\n",
      "Printed energies: FIRE:   -66.074232\n",
      "FIRE:   -65.863668\n",
      "FIRE:   -66.133603\n",
      "FIRE:   -65.962403\n",
      "FIRE:   -66.017516\n",
      "FIRE:   -66.093289\n",
      "FIRE:   -66.137176\n",
      "FIRE:   -66.113015\n",
      "FIRE:   -66.115687\n",
      "FIRE:   -66.120465\n",
      "FIRE:   -66.126347\n",
      "FIRE:   -66.132120\n",
      "FIRE:   -66.136631\n",
      "FIRE:   -66.139027\n",
      "FIRE:   -66.139002\n",
      "FIRE:   -66.139017\n",
      "FIRE:   -66.139048\n",
      "FIRE:   -66.139092\n",
      "FIRE:   -66.139149\n",
      "FIRE:   -66.139216\n",
      "FIRE:   -66.139291\n",
      "FIRE:   -66.139372\n",
      "FIRE:   -66.139466\n",
      "FIRE:   -66.139571\n",
      "FIRE:   -66.139685\n",
      "FIRE:   -66.139803\n",
      "FIRE:   -66.139923\n",
      "FIRE:   -66.140045\n",
      "FIRE:   -66.140175\n",
      "FIRE:   -66.140327\n",
      "FIRE:   -66.140518\n",
      "FIRE:   -66.140767\n",
      "FIRE:   -66.141076\n",
      "FIRE:   -66.141431\n",
      "FIRE:   -66.141795\n",
      "FIRE:   -66.142145\n",
      "FIRE:   -66.142505\n",
      "FIRE:   -66.142907\n",
      "Name: Energy, dtype: float64\n",
      "Parsing minimize calculation output        Step      Time     Energy      fmax\n",
      "FIRE:     0  20:13:22 -66.074232  3.380730\n",
      "FIRE:     1  20:13:23 -65.863668  8.146390\n",
      "FIRE:     2  20:13:23 -66.133603  0.701074\n",
      "FIRE:     3  20:13:23 -65.962403  5.666826\n",
      "FIRE:     4  20:13:23 -66.017516  4.758543\n",
      "FIRE:     5  20:13:24 -66.093289  2.969607\n",
      "FIRE:     6  20:13:24 -66.137176  0.447843\n",
      "FIRE:     7  20:13:24 -66.113015  2.388337\n",
      "FIRE:     8  20:13:24 -66.115687  2.259319\n",
      "FIRE:     9  20:13:25 -66.120465  2.009654\n",
      "FIRE:    10  20:13:25 -66.126347  1.655272\n",
      "FIRE:    11  20:13:25 -66.132120  1.218176\n",
      "FIRE:    12  20:13:25 -66.136631  0.724613\n",
      "FIRE:    13  20:13:26 -66.139027  0.203629\n",
      "FIRE:    14  20:13:26 -66.139002  0.305259\n",
      "FIRE:    15  20:13:26 -66.139017  0.301488\n",
      "FIRE:    16  20:13:26 -66.139048  0.293994\n",
      "FIRE:    17  20:13:27 -66.139092  0.282872\n",
      "FIRE:    18  20:13:27 -66.139149  0.268267\n",
      "FIRE:    19  20:13:27 -66.139216  0.250381\n",
      "FIRE:    20  20:13:27 -66.139291  0.229468\n",
      "FIRE:    21  20:13:28 -66.139372  0.205843\n",
      "FIRE:    22  20:13:28 -66.139466  0.177007\n",
      "FIRE:    23  20:13:28 -66.139571  0.170445\n",
      "FIRE:    24  20:13:28 -66.139685  0.169316\n",
      "FIRE:    25  20:13:29 -66.139803  0.167848\n",
      "FIRE:    26  20:13:29 -66.139923  0.165943\n",
      "FIRE:    27  20:13:29 -66.140045  0.163491\n",
      "FIRE:    28  20:13:29 -66.140175  0.160383\n",
      "FIRE:    29  20:13:30 -66.140327  0.156522\n",
      "FIRE:    30  20:13:30 -66.140518  0.151809\n",
      "FIRE:    31  20:13:30 -66.140767  0.146131\n",
      "FIRE:    32  20:13:30 -66.141076  0.139349\n",
      "FIRE:    33  20:13:31 -66.141431  0.131286\n",
      "FIRE:    34  20:13:31 -66.141795  0.121718\n",
      "FIRE:    35  20:13:31 -66.142145  0.110457\n",
      "FIRE:    36  20:13:31 -66.142505  0.110192\n",
      "FIRE:    37  20:13:32 -66.142907  0.091529\n",
      "<bound method NDFrame.keys of        Step      Time     Energy      fmax\n",
      "FIRE:     0  20:13:22 -66.074232  3.380730\n",
      "FIRE:     1  20:13:23 -65.863668  8.146390\n",
      "FIRE:     2  20:13:23 -66.133603  0.701074\n",
      "FIRE:     3  20:13:23 -65.962403  5.666826\n",
      "FIRE:     4  20:13:23 -66.017516  4.758543\n",
      "FIRE:     5  20:13:24 -66.093289  2.969607\n",
      "FIRE:     6  20:13:24 -66.137176  0.447843\n",
      "FIRE:     7  20:13:24 -66.113015  2.388337\n",
      "FIRE:     8  20:13:24 -66.115687  2.259319\n",
      "FIRE:     9  20:13:25 -66.120465  2.009654\n",
      "FIRE:    10  20:13:25 -66.126347  1.655272\n",
      "FIRE:    11  20:13:25 -66.132120  1.218176\n",
      "FIRE:    12  20:13:25 -66.136631  0.724613\n",
      "FIRE:    13  20:13:26 -66.139027  0.203629\n",
      "FIRE:    14  20:13:26 -66.139002  0.305259\n",
      "FIRE:    15  20:13:26 -66.139017  0.301488\n",
      "FIRE:    16  20:13:26 -66.139048  0.293994\n",
      "FIRE:    17  20:13:27 -66.139092  0.282872\n",
      "FIRE:    18  20:13:27 -66.139149  0.268267\n",
      "FIRE:    19  20:13:27 -66.139216  0.250381\n",
      "FIRE:    20  20:13:27 -66.139291  0.229468\n",
      "FIRE:    21  20:13:28 -66.139372  0.205843\n",
      "FIRE:    22  20:13:28 -66.139466  0.177007\n",
      "FIRE:    23  20:13:28 -66.139571  0.170445\n",
      "FIRE:    24  20:13:28 -66.139685  0.169316\n",
      "FIRE:    25  20:13:29 -66.139803  0.167848\n",
      "FIRE:    26  20:13:29 -66.139923  0.165943\n",
      "FIRE:    27  20:13:29 -66.140045  0.163491\n",
      "FIRE:    28  20:13:29 -66.140175  0.160383\n",
      "FIRE:    29  20:13:30 -66.140327  0.156522\n",
      "FIRE:    30  20:13:30 -66.140518  0.151809\n",
      "FIRE:    31  20:13:30 -66.140767  0.146131\n",
      "FIRE:    32  20:13:30 -66.141076  0.139349\n",
      "FIRE:    33  20:13:31 -66.141431  0.131286\n",
      "FIRE:    34  20:13:31 -66.141795  0.121718\n",
      "FIRE:    35  20:13:31 -66.142145  0.110457\n",
      "FIRE:    36  20:13:31 -66.142505  0.110192\n",
      "FIRE:    37  20:13:32 -66.142907  0.091529>\n"
     ]
    }
   ],
   "source": [
    "job_relax.calc_minimize(relax_cell=True)\n",
    "job_relax.run(delete_existing_job=True)"
   ]
  },
  {
   "cell_type": "code",
   "execution_count": 28,
   "id": "47a7c3a1",
   "metadata": {},
   "outputs": [
    {
     "data": {
      "text/plain": [
       "[<matplotlib.lines.Line2D at 0x7f0f8c27a390>]"
      ]
     },
     "execution_count": 28,
     "metadata": {},
     "output_type": "execute_result"
    },
    {
     "data": {
      "image/png": "[encoded data removed]",
      "text/plain": [
       "<Figure size 640x480 with 1 Axes>"
      ]
     },
     "metadata": {},
     "output_type": "display_data"
    }
   ],
   "source": [
    "plt.plot(job_relax.output.energy_tot, marker=\"o\", label=\"Total energy with cell relaxation\")"
   ]
  },
  {
   "cell_type": "code",
   "execution_count": 34,
   "id": "a8196160",
   "metadata": {},
   "outputs": [
    {
     "data": {
      "application/vnd.jupyter.widget-view+json": {
       "model_id": "648defc83ae14fdd8d03c72829384731",
       "version_major": 2,
       "version_minor": 0
      },
      "text/plain": [
       "NGLWidget(max_frame=37)"
      ]
     },
     "metadata": {},
     "output_type": "display_data"
    }
   ],
   "source": [
    "job_relax.animate_structures()"
   ]
  },
  {
   "cell_type": "markdown",
   "id": "f371259e",
   "metadata": {},
   "source": [
    "### Create a Grace job for relaxing the atomic positions and cell volume"
   ]
  },
  {
   "cell_type": "code",
   "execution_count": 36,
   "id": "48db69a2",
   "metadata": {},
   "outputs": [],
   "source": [
    "job_volume = pr.create_job(job_type=Grace, job_name=\"Fe_relax_atoms_and_volume\")\n",
    "job_volume.structure = Fe"
   ]
  },
  {
   "cell_type": "code",
   "execution_count": 37,
   "id": "e2b34a74",
   "metadata": {},
   "outputs": [
    {
     "name": "stdout",
     "output_type": "stream",
     "text": [
      "\u001b[31mSignature:\u001b[39m\n",
      "job_volume.calc_minimize(\n",
      "    grace_model: Literal[\u001b[33m'GRACE-1L-MP-r6'\u001b[39m, \u001b[33m'GRACE-2L-MP-r5'\u001b[39m, \u001b[33m'GRACE-2L-MP-r6'\u001b[39m, \u001b[33m'GRACE-FS-OAM'\u001b[39m, \u001b[33m'GRACE-1L-OAM'\u001b[39m, \u001b[33m'GRACE-2L-OAM'\u001b[39m, \u001b[33m'GRACE-FS-OMAT'\u001b[39m, \u001b[33m'GRACE-1L-OMAT'\u001b[39m, \u001b[33m'GRACE-2L-OMAT'\u001b[39m] = \u001b[33m'GRACE-2L-OMAT'\u001b[39m,\n",
      "    algorithm: Literal[\u001b[33m'FIRE'\u001b[39m, \u001b[33m'BFGS'\u001b[39m, \u001b[33m'LBFGS'\u001b[39m] = \u001b[33m'FIRE'\u001b[39m,\n",
      "    algorithm_kwargs: dict = \u001b[38;5;28;01mNone\u001b[39;00m,\n",
      "    relax_cell: bool | \u001b[38;5;28;01mNone\u001b[39;00m = \u001b[38;5;28;01mFalse\u001b[39;00m,\n",
      "    relax_cell_kwargs: dict = \u001b[38;5;28;01mNone\u001b[39;00m,\n",
      "    ionic_force_tolerance: float = \u001b[32m0.1\u001b[39m,\n",
      "    max_iter: int = \u001b[32m500\u001b[39m,\n",
      "    n_print: int = \u001b[32m1\u001b[39m,\n",
      "    save_path: str | \u001b[38;5;28;01mNone\u001b[39;00m = \u001b[33m'relax.traj'\u001b[39m,\n",
      ")\n",
      "\u001b[31mDocstring:\u001b[39m\n",
      "Perform a structure relaxation (geometry optimization).\n",
      "\n",
      "Parameters\n",
      "----------\n",
      "grace_model : str,\n",
      "    The Grace model to use for the calculation. Default is \"GRACE-2L-OMAT\".\n",
      "algorithm : str, optional\n",
      "    Choose an ASE algorithm for the ionic relaxation. Default is \"FIRE\".\n",
      "algorithm_kwargs: dict, optional\n",
      "    Additional keyword arguments for the chosen algorithm. Default is None.\n",
      "relax_cell : bool or None, optional\n",
      "    Whether to allow relaxation of the simulation cell (default is False).\n",
      "relax_cell_kwargs: dict, optional\n",
      "    Additional keyword arguments for cell relaxation (default is None).\n",
      "ionic_force_tolerance : float, optional\n",
      "    Convergence criterion for forces (default is 0.1 eV/Å).\n",
      "max_iter : int, optional\n",
      "    Maximum number of iterations (default is 500).\n",
      "n_print : int, optional\n",
      "    Frequency of logging output (default is 1).\n",
      "save_path : str or None, optional\n",
      "    Path to save the trajectory file (default is 'relax.traj').\n",
      "\u001b[31mFile:\u001b[39m      ~/projects/mul/wmaee/wmaee/codes/pyiron/pyiron_GRACE_job.py\n",
      "\u001b[31mType:\u001b[39m      method"
     ]
    }
   ],
   "source": [
    "job_volume.calc_minimize?"
   ]
  },
  {
   "cell_type": "markdown",
   "id": "9164fe65",
   "metadata": {},
   "source": [
    "This time we also use a different Grace UMLIP and algo:"
   ]
  },
  {
   "cell_type": "code",
   "execution_count": 39,
   "id": "36ef89ed",
   "metadata": {},
   "outputs": [
    {
     "name": "stdout",
     "output_type": "stream",
     "text": [
      "Trajectory name: relax.traj\n",
      "The job Fe_relax_atoms_and_volume was saved and received the ID: 14\n",
      "Index(['Step', 'Time', 'Energy', 'fmax'], dtype='object')\n",
      "Printed energies: FIRE:   -66.995027\n",
      "FIRE:   -66.950263\n",
      "FIRE:   -67.012562\n",
      "FIRE:   -67.000903\n",
      "FIRE:   -67.007194\n",
      "FIRE:   -67.015855\n",
      "FIRE:   -67.021336\n",
      "FIRE:   -67.020113\n",
      "FIRE:   -67.020261\n",
      "FIRE:   -67.020532\n",
      "FIRE:   -67.020884\n",
      "FIRE:   -67.021260\n",
      "FIRE:   -67.021600\n",
      "FIRE:   -67.021854\n",
      "FIRE:   -67.021990\n",
      "Name: Energy, dtype: float64\n",
      "Parsing minimize calculation output        Step      Time     Energy      fmax\n",
      "FIRE:     0  20:36:38 -66.995027  2.116620\n",
      "FIRE:     1  20:36:38 -66.950263  3.447075\n",
      "FIRE:     2  20:36:38 -67.012562  1.247240\n",
      "FIRE:     3  20:36:38 -67.000903  1.904355\n",
      "FIRE:     4  20:36:39 -67.007194  1.595742\n",
      "FIRE:     5  20:36:39 -67.015855  1.015204\n",
      "FIRE:     6  20:36:39 -67.021336  0.250665\n",
      "FIRE:     7  20:36:39 -67.020113  0.554276\n",
      "FIRE:     8  20:36:40 -67.020261  0.530797\n",
      "FIRE:     9  20:36:40 -67.020532  0.484816\n",
      "FIRE:    10  20:36:40 -67.020884  0.418262\n",
      "FIRE:    11  20:36:40 -67.021260  0.333975\n",
      "FIRE:    12  20:36:41 -67.021600  0.235651\n",
      "FIRE:    13  20:36:41 -67.021854  0.127894\n",
      "FIRE:    14  20:36:41 -67.021990  0.095038\n",
      "<bound method NDFrame.keys of        Step      Time     Energy      fmax\n",
      "FIRE:     0  20:36:38 -66.995027  2.116620\n",
      "FIRE:     1  20:36:38 -66.950263  3.447075\n",
      "FIRE:     2  20:36:38 -67.012562  1.247240\n",
      "FIRE:     3  20:36:38 -67.000903  1.904355\n",
      "FIRE:     4  20:36:39 -67.007194  1.595742\n",
      "FIRE:     5  20:36:39 -67.015855  1.015204\n",
      "FIRE:     6  20:36:39 -67.021336  0.250665\n",
      "FIRE:     7  20:36:39 -67.020113  0.554276\n",
      "FIRE:     8  20:36:40 -67.020261  0.530797\n",
      "FIRE:     9  20:36:40 -67.020532  0.484816\n",
      "FIRE:    10  20:36:40 -67.020884  0.418262\n",
      "FIRE:    11  20:36:40 -67.021260  0.333975\n",
      "FIRE:    12  20:36:41 -67.021600  0.235651\n",
      "FIRE:    13  20:36:41 -67.021854  0.127894\n",
      "FIRE:    14  20:36:41 -67.021990  0.095038>\n"
     ]
    }
   ],
   "source": [
    "job_volume.calc_minimize(grace_model='GRACE-2L-MP-r5', relax_cell=True, relax_cell_kwargs={\"hydrostatic_strain\": True})\n",
    "job_volume.run(delete_existing_job=True)"
   ]
  },
  {
   "cell_type": "code",
   "execution_count": 50,
   "id": "2400340f",
   "metadata": {},
   "outputs": [
    {
     "data": {
      "text/plain": [
       "[<matplotlib.lines.Line2D at 0x7f0f955c2390>]"
      ]
     },
     "execution_count": 50,
     "metadata": {},
     "output_type": "execute_result"
    },
    {
     "data": {
      "image/png": "[encoded data removed]",
      "text/plain": [
       "<Figure size 640x480 with 1 Axes>"
      ]
     },
     "metadata": {},
     "output_type": "display_data"
    }
   ],
   "source": [
    "plt.plot(job_volume.output.energy_tot, color=\"b\", marker=\"s\", label=\"Total energy with volume relaxation\")"
   ]
  },
  {
   "cell_type": "markdown",
   "id": "a5c12ffa",
   "metadata": {},
   "source": [
    "### Relaxation of a large structure"
   ]
  },
  {
   "cell_type": "code",
   "execution_count": null,
   "id": "d9a4e5eb",
   "metadata": {},
   "outputs": [],
   "source": [
    "large_Fe = pr.create.structure.bulk(\"Fe\").repeat([2, 2, 2])\n",
    "job_relax = pr.create_job(job_type=Grace, job_name=\"large_Fe_relax\")\n",
    "copy_structure = large_Fe.copy()\n",
    "copy_structure[0] = \"Mo\"\n",
    "job_relax.structure = copy_structure\n",
    "job_relax.calc_minimize(relax_cell=True, grace_model='GRACE-2L-OAM')\n",
    "job_relax.run(delete_existing_job=True)"
   ]
  },
  {
   "cell_type": "code",
   "execution_count": null,
   "id": "64a47516",
   "metadata": {},
   "outputs": [],
   "source": [
    "# Relaxation of a large structure\n",
    "large_Fe = pr.create.structure.bulk(\"Fe\", cubic=True).repeat([2, 2, 2])\n",
    "job_relax = pr.create_job(job_type=Grace, job_name=\"large_Fe_relax_omat\")\n",
    "copy_structure = large_Fe.copy()\n",
    "copy_structure[0] = \"Mo\"\n",
    "job_relax.structure = copy_structure\n",
    "job_relax.calc_minimize(relax_cell=True, grace_model='GRACE-2L-OMAT', ionic_force_tolerance=1e-4)\n",
    "job_relax.run(delete_existing_job=True)"
   ]
  },
  {
   "cell_type": "code",
   "execution_count": 9,
   "id": "14f72626",
   "metadata": {},
   "outputs": [
    {
     "data": {
      "text/plain": [
       "[<matplotlib.lines.Line2D at 0x7f27fb18c990>]"
      ]
     },
     "execution_count": 9,
     "metadata": {},
     "output_type": "execute_result"
    },
    {
     "data": {
      "image/png": "[encoded data removed]",
      "text/plain": [
       "<Figure size 640x480 with 1 Axes>"
      ]
     },
     "metadata": {},
     "output_type": "display_data"
    }
   ],
   "source": [
    "plt.plot(job_relax.output.energy_tot, color=\"g\", marker=\"^\", label=\"Total energy with cell relaxation and OMAT\")"
   ]
  },
  {
   "cell_type": "markdown",
   "id": "8d35d594",
   "metadata": {},
   "source": [
    "## Satic calculation"
   ]
  },
  {
   "cell_type": "code",
   "execution_count": 7,
   "id": "777ebbc1",
   "metadata": {},
   "outputs": [
    {
     "name": "stdout",
     "output_type": "stream",
     "text": [
      "\u001b[31mSignature:\u001b[39m\n",
      "job_static.calc_static(\n",
      "    grace_model: Literal[\u001b[33m'GRACE-1L-MP-r6'\u001b[39m, \u001b[33m'GRACE-2L-MP-r5'\u001b[39m, \u001b[33m'GRACE-2L-MP-r6'\u001b[39m, \u001b[33m'GRACE-FS-OAM'\u001b[39m, \u001b[33m'GRACE-1L-OAM'\u001b[39m, \u001b[33m'GRACE-2L-OAM'\u001b[39m, \u001b[33m'GRACE-FS-OMAT'\u001b[39m, \u001b[33m'GRACE-1L-OMAT'\u001b[39m, \u001b[33m'GRACE-2L-OMAT'\u001b[39m] = \u001b[33m'GRACE-2L-OMAT'\u001b[39m,\n",
      ")\n",
      "\u001b[31mDocstring:\u001b[39m\n",
      "Perform a static calculation.\n",
      "\n",
      "Parameters\n",
      "----------\n",
      "grace_model : {\"GRACE-1L-MP-r6\", \"GRACE-2L-MP-r5\", \"GRACE-2L-MP-r6\", \"GRACE-FS-OAM\",\n",
      "\"GRACE-1L-OAM\", \"GRACE-2L-OAM\", \"GRACE-FS-OMAT\", \"GRACE-1L-OMAT\", \"GRACE-2L-OMAT\"}, optional\n",
      "    The Grace model to use for the calculation. Default is \"GRACE-2L-OMAT\".\n",
      "\n",
      "This method sets up the Grace calculator with the specified model and prepares\n",
      "the job for a static calculation. The structure must be set before calling this method.\n",
      "\n",
      "Raises\n",
      "------\n",
      "ValueError\n",
      "    If the structure is not set before calling this method.\n",
      "\u001b[31mFile:\u001b[39m      ~/projects/mul/wmaee/wmaee/codes/pyiron/pyiron_GRACE_job.py\n",
      "\u001b[31mType:\u001b[39m      method"
     ]
    }
   ],
   "source": [
    "job_static = pr.create_job(job_type=Grace, job_name=\"Fe_static\")\n",
    "job_static.structure = Fe\n",
    "\n",
    "job_static.calc_static?"
   ]
  },
  {
   "cell_type": "code",
   "execution_count": 8,
   "id": "49ea1e42",
   "metadata": {},
   "outputs": [
    {
     "name": "stdout",
     "output_type": "stream",
     "text": [
      "Using cached GRACE model from /home/amin/.cache/grace/GRACE-2L-MP-r5\n",
      "Model license: Academic Software License\n",
      "The job Fe_static was saved and received the ID: 1\n",
      "Index(['step', 'energy_pot', 'forces', 'stresses'], dtype='object')\n"
     ]
    },
    {
     "name": "stderr",
     "output_type": "stream",
     "text": [
      "/home/amin/projects/mul/wmaee/wmaee/codes/pyiron/pyiron_GRACE_job.py:478: ParserWarning: Falling back to the 'python' engine because the 'c' engine does not support regex separators (separators > 1 char and different from '\\s+' are interpreted as regex); you can avoid this warning by specifying engine='python'.\n",
      "  header = pd.read_csv(\n",
      "/home/amin/projects/mul/wmaee/wmaee/codes/pyiron/pyiron_GRACE_job.py:484: ParserWarning: Falling back to the 'python' engine because the 'c' engine does not support regex separators (separators > 1 char and different from '\\s+' are interpreted as regex); you can avoid this warning by specifying engine='python'.\n",
      "  df = pd.read_table(\n"
     ]
    }
   ],
   "source": [
    "job_static.calc_static(grace_model='GRACE-2L-MP-r5')\n",
    "job_static.run(delete_existing_job=True)"
   ]
  },
  {
   "cell_type": "code",
   "execution_count": 9,
   "id": "8beab7ba",
   "metadata": {},
   "outputs": [
    {
     "data": {
      "text/plain": [
       "array([-66.99502741])"
      ]
     },
     "execution_count": 9,
     "metadata": {},
     "output_type": "execute_result"
    }
   ],
   "source": [
    "job_static.output.energy_tot\n"
   ]
  }
 ],
 "metadata": {
  "kernelspec": {
   "display_name": "pyiron",
   "language": "python",
   "name": "python3"
  },
  "language_info": {
   "codemirror_mode": {
    "name": "ipython",
    "version": 3
   },
   "file_extension": ".py",
   "mimetype": "text/x-python",
   "name": "python",
   "nbconvert_exporter": "python",
   "pygments_lexer": "ipython3",
   "version": "3.11.0"
  }
 },
 "nbformat": 4,
 "nbformat_minor": 5
}
