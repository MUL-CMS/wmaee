{
 "cells": [
  {
   "cell_type": "markdown",
   "metadata": {},
   "source": [
    "# EoS fitting\n",
    "\n",
    "1. Murnaghan EoS\n",
    "2. Birch-Murnaghan EoS\n",
    "3. Polynomial\n",
    "\n",
    "This script shows an example on how to get the equilibrium energy, volume and bulk modulus of a 3 $\\times$ 3 $\\times$ 3 supercell of bcc-FM-Fe using all methods in eos.py!"
   ]
  },
  {
   "cell_type": "code",
   "execution_count": 1,
   "metadata": {},
   "outputs": [],
   "source": [
    "from wmaee.scopes.eos_david import murnaghan_fit\n",
    "\n",
    "# Another option to include all Methods from eos.py at the same time.\n",
    "# If you do it this way, you dont need to import numpy, because eos.py will import it by default!\n",
    "# from wmaee.scopes import eos\n",
    "\n",
    "import pandas as pd # this package is optional\n",
    "# Since we imported specificely the EqosBirchMurnaghan class from eos.py, we also need to import numpy seperately.\n",
    "import numpy as np\n",
    "import matplotlib.pyplot as plt"
   ]
  },
  {
   "cell_type": "code",
   "execution_count": 2,
   "metadata": {},
   "outputs": [
    {
     "data": {
      "text/html": [
       "<div>\n",
       "<style scoped>\n",
       "    .dataframe tbody tr th:only-of-type {\n",
       "        vertical-align: middle;\n",
       "    }\n",
       "\n",
       "    .dataframe tbody tr th {\n",
       "        vertical-align: top;\n",
       "    }\n",
       "\n",
       "    .dataframe thead th {\n",
       "        text-align: right;\n",
       "    }\n",
       "</style>\n",
       "<table border=\"1\" class=\"dataframe\">\n",
       "  <thead>\n",
       "    <tr style=\"text-align: right;\">\n",
       "      <th></th>\n",
       "      <th>scale[-]</th>\n",
       "      <th>atoms[-]</th>\n",
       "      <th>energy[ev/atom]</th>\n",
       "      <th>alat[A]</th>\n",
       "      <th>mom[bohr]</th>\n",
       "    </tr>\n",
       "  </thead>\n",
       "  <tbody>\n",
       "    <tr>\n",
       "      <th>0</th>\n",
       "      <td>0.95</td>\n",
       "      <td>54</td>\n",
       "      <td>-8.335615</td>\n",
       "      <td>2.723175</td>\n",
       "      <td>2.041</td>\n",
       "    </tr>\n",
       "    <tr>\n",
       "      <th>1</th>\n",
       "      <td>0.96</td>\n",
       "      <td>54</td>\n",
       "      <td>-8.391070</td>\n",
       "      <td>2.751840</td>\n",
       "      <td>2.089</td>\n",
       "    </tr>\n",
       "    <tr>\n",
       "      <th>2</th>\n",
       "      <td>0.97</td>\n",
       "      <td>54</td>\n",
       "      <td>-8.428036</td>\n",
       "      <td>2.780505</td>\n",
       "      <td>2.130</td>\n",
       "    </tr>\n",
       "    <tr>\n",
       "      <th>3</th>\n",
       "      <td>0.98</td>\n",
       "      <td>54</td>\n",
       "      <td>-8.449284</td>\n",
       "      <td>2.809170</td>\n",
       "      <td>2.191</td>\n",
       "    </tr>\n",
       "    <tr>\n",
       "      <th>4</th>\n",
       "      <td>0.99</td>\n",
       "      <td>54</td>\n",
       "      <td>-8.456733</td>\n",
       "      <td>2.837835</td>\n",
       "      <td>2.242</td>\n",
       "    </tr>\n",
       "    <tr>\n",
       "      <th>5</th>\n",
       "      <td>1.00</td>\n",
       "      <td>54</td>\n",
       "      <td>-8.451424</td>\n",
       "      <td>2.866500</td>\n",
       "      <td>2.291</td>\n",
       "    </tr>\n",
       "    <tr>\n",
       "      <th>6</th>\n",
       "      <td>1.01</td>\n",
       "      <td>54</td>\n",
       "      <td>-8.435316</td>\n",
       "      <td>2.895165</td>\n",
       "      <td>2.356</td>\n",
       "    </tr>\n",
       "    <tr>\n",
       "      <th>7</th>\n",
       "      <td>1.02</td>\n",
       "      <td>54</td>\n",
       "      <td>-8.411799</td>\n",
       "      <td>2.923830</td>\n",
       "      <td>2.514</td>\n",
       "    </tr>\n",
       "    <tr>\n",
       "      <th>8</th>\n",
       "      <td>1.03</td>\n",
       "      <td>54</td>\n",
       "      <td>-8.384732</td>\n",
       "      <td>2.952495</td>\n",
       "      <td>2.602</td>\n",
       "    </tr>\n",
       "    <tr>\n",
       "      <th>9</th>\n",
       "      <td>1.04</td>\n",
       "      <td>54</td>\n",
       "      <td>-8.350246</td>\n",
       "      <td>2.981160</td>\n",
       "      <td>2.642</td>\n",
       "    </tr>\n",
       "    <tr>\n",
       "      <th>10</th>\n",
       "      <td>1.05</td>\n",
       "      <td>54</td>\n",
       "      <td>-8.308485</td>\n",
       "      <td>3.009825</td>\n",
       "      <td>2.680</td>\n",
       "    </tr>\n",
       "  </tbody>\n",
       "</table>\n",
       "</div>"
      ],
      "text/plain": [
       "    scale[-]  atoms[-]  energy[ev/atom]   alat[A]  mom[bohr]\n",
       "0       0.95        54        -8.335615  2.723175      2.041\n",
       "1       0.96        54        -8.391070  2.751840      2.089\n",
       "2       0.97        54        -8.428036  2.780505      2.130\n",
       "3       0.98        54        -8.449284  2.809170      2.191\n",
       "4       0.99        54        -8.456733  2.837835      2.242\n",
       "5       1.00        54        -8.451424  2.866500      2.291\n",
       "6       1.01        54        -8.435316  2.895165      2.356\n",
       "7       1.02        54        -8.411799  2.923830      2.514\n",
       "8       1.03        54        -8.384732  2.952495      2.602\n",
       "9       1.04        54        -8.350246  2.981160      2.642\n",
       "10      1.05        54        -8.308485  3.009825      2.680"
      ]
     },
     "execution_count": 2,
     "metadata": {},
     "output_type": "execute_result"
    }
   ],
   "source": [
    "# read input file. It is recommended to save the E-V data from a calculation (any DFT code, e.g. VASP, Wien2k, GreenAlm, etc.) \n",
    "# in a csv file, because it is easy to read and independent on platform, code, etc.\n",
    "df = pd.read_csv('3_3_3_fe.csv')\n",
    "df"
   ]
  },
  {
   "cell_type": "code",
   "execution_count": 3,
   "metadata": {
    "scrolled": true
   },
   "outputs": [
    {
     "name": "stdout",
     "output_type": "stream",
     "text": [
      " Volumes: [20.19419977 20.83864765 21.49666236 22.16838521 22.85395754 23.55352065\n",
      " 24.26721588 24.99518455 25.73756796 26.49450746 27.26614435] and Energies: [-8.33561539 -8.39106979 -8.42803638 -8.44928415 -8.45673325 -8.45142374\n",
      " -8.4353157  -8.41179872 -8.38473167 -8.35024559 -8.30848514]\n"
     ]
    }
   ],
   "source": [
    "volumes = np.array(df['alat[A]']**3)\n",
    "energies = np.array(df['energy[ev/atom]'])\n",
    "print(f' Volumes: {volumes} and Energies: {energies}')"
   ]
  },
  {
   "cell_type": "code",
   "execution_count": 4,
   "metadata": {},
   "outputs": [
    {
     "data": {
      "text/plain": [
       "<matplotlib.legend.Legend at 0x7fb2674e8610>"
      ]
     },
     "execution_count": 4,
     "metadata": {},
     "output_type": "execute_result"
    },
    {
     "data": {
      "image/png": "[encoded data removed]",
      "text/plain": [
       "<Figure size 432x288 with 1 Axes>"
      ]
     },
     "metadata": {
      "needs_background": "light"
     },
     "output_type": "display_data"
    }
   ],
   "source": [
    "plt.plot(volumes, energies, ls=' ', marker='o', label='Data')\n",
    "plt.xlabel('Volume, $V$ [$\\AA^3$]')\n",
    "plt.ylabel('Energy, $E$ [eV/at.]')\n",
    "plt.legend()"
   ]
  },
  {
   "cell_type": "markdown",
   "metadata": {},
   "source": [
    "## Murnaghan EoS\n",
    "\n",
    "For a detailed description of this method, you can check out our Wiki.js page:\n",
    "\n",
    "https://cms-wiki.de/en/methods/eos"
   ]
  },
  {
   "cell_type": "markdown",
   "metadata": {},
   "source": [
    "**Information on classes and functions**\n",
    "\n",
    "This is how you can check the class atributes and functions. Simply add a ? after the class name or function.\n",
    "\n",
    "In jupyter notebook the information will be printed below your cell. Simply remove the # in the next lines and execute the cell to see the output.\n",
    "\n",
    "Examples:"
   ]
  },
  {
   "cell_type": "code",
   "execution_count": 22,
   "metadata": {},
   "outputs": [],
   "source": [
    "#murnaghan_fit?"
   ]
  },
  {
   "cell_type": "code",
   "execution_count": 6,
   "metadata": {
    "scrolled": true
   },
   "outputs": [
    {
     "name": "stdout",
     "output_type": "stream",
     "text": [
      "Standard deviation of E0, V0, B0, Bp = [0.00054312 0.01840348 0.00472612 0.30113818]\n",
      "V_eq = 22.883377421430243 [A^3]\n",
      "E_eq = -8.455478881392462 [eV/atom]\n",
      "B_eq = 0.5379178361285143 [eV/A^3]\n",
      "Bp_eq = 6.935821184966511 [-]\n"
     ]
    }
   ],
   "source": [
    "# First, we perform the Murnaghan fit\n",
    "m_eos = murnaghan_fit(volumes, energies)\n",
    "\n",
    "# Now, we can extract the equilibrium data out of the fit\n",
    "e0_m = m_eos[0]\n",
    "v0_m = m_eos[1]\n",
    "b0_m = m_eos[2]\n",
    "bp_m = m_eos[3]\n",
    "\n",
    "print(f'V_eq = {v0_m} [A^3]\\nE_eq = {e0_m} [eV/atom]\\nB_eq = {b0_m} [eV/A^3]\\nBp_eq = {bp_m} [-]')"
   ]
  },
  {
   "cell_type": "code",
   "execution_count": 7,
   "metadata": {},
   "outputs": [
    {
     "data": {
      "text/plain": [
       "<matplotlib.legend.Legend at 0x7fb266b59d30>"
      ]
     },
     "execution_count": 7,
     "metadata": {},
     "output_type": "execute_result"
    },
    {
     "data": {
      "image/png": "[encoded data removed]",
      "text/plain": [
       "<Figure size 432x288 with 1 Axes>"
      ]
     },
     "metadata": {
      "needs_background": "light"
     },
     "output_type": "display_data"
    }
   ],
   "source": [
    "# Compare the quality of the fit, by plotting the data and the fit\n",
    "plt.plot(volumes, energies, ls=' ', marker='o', label='Data')\n",
    "plt.plot(m_eos[4], m_eos[-1], ls='-', label='M-Fit')\n",
    "plt.axvline(v0_m, ls='--', lw=0.5)\n",
    "plt.axhline(e0_m, ls='--', lw=0.5)\n",
    "plt.xlabel('Volume, $V$ [$\\AA^3$]')\n",
    "plt.ylabel('Energy, $E$ [eV/at.]')\n",
    "plt.legend()"
   ]
  },
  {
   "cell_type": "code",
   "execution_count": 8,
   "metadata": {},
   "outputs": [
    {
     "name": "stdout",
     "output_type": "stream",
     "text": [
      "The calculated equilibrium lattice constant is 2.8390521791401007 [A]\n",
      "The experimental lattice constant is 2.866 [A]\n",
      "\n",
      "Note, that the Fe-system is a special case, where the PBE-GGA XC-functional underestimates the lattice constant!\n"
     ]
    }
   ],
   "source": [
    "# Lets compare the equilibrum lattice constant with results from experiments:\n",
    "\n",
    "a0 = v0_m**(1/3)\n",
    "print(f'The calculated equilibrium lattice constant is {a0} [A]\\nThe experimental lattice constant is 2.866 [A]')\n",
    "\n",
    "print('\\nNote, that the Fe-system is a special case, where the PBE-GGA XC-functional underestimates the lattice constant!')"
   ]
  },
  {
   "cell_type": "markdown",
   "metadata": {},
   "source": [
    "## Birch-Murnaghan EoS\n",
    "\n",
    "For a detailed description of this method, you can check out our Wiki.js page:\n",
    "\n",
    "https://cms-wiki.de/en/methods/eos"
   ]
  },
  {
   "cell_type": "code",
   "execution_count": 9,
   "metadata": {},
   "outputs": [],
   "source": [
    "from wmaee.scopes.eos_david import birch_murnaghan_fit"
   ]
  },
  {
   "cell_type": "code",
   "execution_count": 21,
   "metadata": {},
   "outputs": [],
   "source": [
    "#birch_murnaghan_fit?"
   ]
  },
  {
   "cell_type": "code",
   "execution_count": 10,
   "metadata": {},
   "outputs": [
    {
     "name": "stdout",
     "output_type": "stream",
     "text": [
      "Standard deviation of E0, V0, B0, Bp = [0.00052746 0.01618107 0.00553934 0.24449695]\n",
      "E_eq = -8.455873768724281 [eV/atom]\n",
      "V_eq = 22.891695659174328 [A^3]\n",
      "B_eq = 0.551034532676176 [eV/A^3]\n",
      "Bp_eq = 6.681914024805259 [-]\n"
     ]
    }
   ],
   "source": [
    "# we use the same input csv file as before\n",
    "bm_eos = birch_murnaghan_fit(volumes=volumes, energies=energies)\n",
    "\n",
    "# now we can extract the equilibrium data out of the fit\n",
    "e0_bm = bm_eos[0]\n",
    "v0_bm = bm_eos[1]\n",
    "b0_bm = bm_eos[2]\n",
    "bp_bm = bm_eos[3]\n",
    "\n",
    "print(f'E_eq = {e0_bm} [eV/atom]\\nV_eq = {v0_bm} [A^3]\\nB_eq = {b0_bm} [eV/A^3]\\nBp_eq = {bp_bm} [-]')\n"
   ]
  },
  {
   "cell_type": "code",
   "execution_count": 11,
   "metadata": {},
   "outputs": [
    {
     "data": {
      "text/plain": [
       "<matplotlib.legend.Legend at 0x7fb266abfa00>"
      ]
     },
     "execution_count": 11,
     "metadata": {},
     "output_type": "execute_result"
    },
    {
     "data": {
      "image/png": "[encoded data removed]",
      "text/plain": [
       "<Figure size 432x288 with 1 Axes>"
      ]
     },
     "metadata": {
      "needs_background": "light"
     },
     "output_type": "display_data"
    }
   ],
   "source": [
    "plt.plot(volumes, energies, ls=' ', marker='o', label='Data')\n",
    "plt.plot(bm_eos[4], bm_eos[-1], ls='-', label='BM-Fit')\n",
    "# bm_eos[4] holds the volumes for the BM-Fit plot, and bm_eos[-1] holds the corresponding energies,\n",
    "# which are calculated with the fitted parameters\n",
    "plt.axvline(v0_bm, ls='--', lw=0.5)\n",
    "plt.axhline(e0_bm, ls='--', lw=0.5)\n",
    "plt.xlabel('Volume, $V$ [$\\AA^3$]')\n",
    "plt.ylabel('Energy, $E$ [eV/at.]')\n",
    "plt.legend()"
   ]
  },
  {
   "cell_type": "markdown",
   "metadata": {},
   "source": [
    "## Polynomial\n",
    "\n",
    "For a detailed description of this method, you can check out our Wiki.js page:\n",
    "\n",
    "https://cms-wiki.de/en/methods/eos"
   ]
  },
  {
   "cell_type": "code",
   "execution_count": 12,
   "metadata": {},
   "outputs": [],
   "source": [
    "from wmaee.scopes.eos_david import polynomial_fit"
   ]
  },
  {
   "cell_type": "code",
   "execution_count": 20,
   "metadata": {},
   "outputs": [],
   "source": [
    "#polynomial_fit?"
   ]
  },
  {
   "cell_type": "code",
   "execution_count": 13,
   "metadata": {},
   "outputs": [
    {
     "name": "stdout",
     "output_type": "stream",
     "text": [
      "E_eq = -8.456885556923472 [eV/atom]\n",
      "V_eq = 22.947292583797[A^3]\n",
      "B_eq = 0.5828594277376586 [eV/A^3]\n"
     ]
    }
   ],
   "source": [
    "pn_eos = polynomial_fit(volumes, energies)\n",
    "\n",
    "e0_pn = pn_eos[0]\n",
    "v0_pn = pn_eos[1]\n",
    "b0_pn = pn_eos[2]\n",
    "\n",
    "print(f'E_eq = {e0_pn} [eV/atom]\\nV_eq = {v0_pn}[A^3]\\nB_eq = {b0_pn} [eV/A^3]')"
   ]
  },
  {
   "cell_type": "code",
   "execution_count": 14,
   "metadata": {},
   "outputs": [
    {
     "data": {
      "text/plain": [
       "<matplotlib.legend.Legend at 0x7fb266584fa0>"
      ]
     },
     "execution_count": 14,
     "metadata": {},
     "output_type": "execute_result"
    },
    {
     "data": {
      "image/png": "[encoded data removed]",
      "text/plain": [
       "<Figure size 432x288 with 1 Axes>"
      ]
     },
     "metadata": {
      "needs_background": "light"
     },
     "output_type": "display_data"
    }
   ],
   "source": [
    "plt.plot(volumes, energies, ls=' ', marker='o', label='Data')\n",
    "plt.plot(pn_eos[-2], pn_eos[-1], ls='-', label='Polynomial-Fit')\n",
    "# pn_eos[-2] holds the volumes for the BM-Fit plot, and pn_eos[-1] holds the corresponding energies,\n",
    "# which are calculated with the fitted parameters\n",
    "plt.axvline(v0_pn, ls='--', lw=0.5)\n",
    "plt.axhline(e0_pn, ls='--', lw=0.5)\n",
    "plt.xlabel('Volume, $V$ [$\\AA^3$]')\n",
    "plt.ylabel('Energy, $E$ [eV/at.]')\n",
    "plt.legend()"
   ]
  }
 ],
 "metadata": {
  "kernelspec": {
   "display_name": "Python 3 (ipykernel)",
   "language": "python",
   "name": "python3"
  },
  "language_info": {
   "codemirror_mode": {
    "name": "ipython",
    "version": 3
   },
   "file_extension": ".py",
   "mimetype": "text/x-python",
   "name": "python",
   "nbconvert_exporter": "python",
   "pygments_lexer": "ipython3",
   "version": "3.9.13"
  },
  "vscode": {
   "interpreter": {
    "hash": "8e0d0260e1f3d0b9823b804dc5934a8bd3512d2d0af3147365a0766f6dd8bfcd"
   }
  }
 },
 "nbformat": 4,
 "nbformat_minor": 2
}
