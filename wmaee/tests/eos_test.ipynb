{
 "cells": [
  {
   "cell_type": "markdown",
   "metadata": {},
   "source": [
    "\n",
    "This script shows an example on how to get the equilibrium energy, volume and bulk modulus of a 3 $\\times$ 3 $\\times$ 3 supercell of bcc-FM-Fe using all methods in eos.py!"
   ]
  },
  {
   "cell_type": "code",
   "execution_count": 15,
   "metadata": {},
   "outputs": [],
   "source": [
    "from wmaee.scopes.eos import EqosBirchMurnaghan\n",
    "\n",
    "# Another option to include all Methods from eos.py in the same time.\n",
    "# If you do it this way, then you dont need to import numpy as well, because eos will import it by default!\n",
    "# from wmaee.scopes import eos\n",
    "\n",
    "import pandas as pd\n",
    "import numpy as np"
   ]
  },
  {
   "cell_type": "code",
   "execution_count": 2,
   "metadata": {},
   "outputs": [
    {
     "data": {
      "text/html": [
       "<div>\n",
       "<style scoped>\n",
       "    .dataframe tbody tr th:only-of-type {\n",
       "        vertical-align: middle;\n",
       "    }\n",
       "\n",
       "    .dataframe tbody tr th {\n",
       "        vertical-align: top;\n",
       "    }\n",
       "\n",
       "    .dataframe thead th {\n",
       "        text-align: right;\n",
       "    }\n",
       "</style>\n",
       "<table border=\"1\" class=\"dataframe\">\n",
       "  <thead>\n",
       "    <tr style=\"text-align: right;\">\n",
       "      <th></th>\n",
       "      <th>scale[-]</th>\n",
       "      <th>atoms[-]</th>\n",
       "      <th>energy[ev/atom]</th>\n",
       "      <th>alat[A]</th>\n",
       "      <th>mom[bohr]</th>\n",
       "    </tr>\n",
       "  </thead>\n",
       "  <tbody>\n",
       "    <tr>\n",
       "      <th>0</th>\n",
       "      <td>0.95</td>\n",
       "      <td>54</td>\n",
       "      <td>-8.335615</td>\n",
       "      <td>2.723175</td>\n",
       "      <td>2.041</td>\n",
       "    </tr>\n",
       "    <tr>\n",
       "      <th>1</th>\n",
       "      <td>0.96</td>\n",
       "      <td>54</td>\n",
       "      <td>-8.391070</td>\n",
       "      <td>2.751840</td>\n",
       "      <td>2.089</td>\n",
       "    </tr>\n",
       "    <tr>\n",
       "      <th>2</th>\n",
       "      <td>0.97</td>\n",
       "      <td>54</td>\n",
       "      <td>-8.428036</td>\n",
       "      <td>2.780505</td>\n",
       "      <td>2.130</td>\n",
       "    </tr>\n",
       "    <tr>\n",
       "      <th>3</th>\n",
       "      <td>0.98</td>\n",
       "      <td>54</td>\n",
       "      <td>-8.449284</td>\n",
       "      <td>2.809170</td>\n",
       "      <td>2.191</td>\n",
       "    </tr>\n",
       "    <tr>\n",
       "      <th>4</th>\n",
       "      <td>0.99</td>\n",
       "      <td>54</td>\n",
       "      <td>-8.456733</td>\n",
       "      <td>2.837835</td>\n",
       "      <td>2.242</td>\n",
       "    </tr>\n",
       "    <tr>\n",
       "      <th>5</th>\n",
       "      <td>1.00</td>\n",
       "      <td>54</td>\n",
       "      <td>-8.451424</td>\n",
       "      <td>2.866500</td>\n",
       "      <td>2.291</td>\n",
       "    </tr>\n",
       "    <tr>\n",
       "      <th>6</th>\n",
       "      <td>1.01</td>\n",
       "      <td>54</td>\n",
       "      <td>-8.435316</td>\n",
       "      <td>2.895165</td>\n",
       "      <td>2.356</td>\n",
       "    </tr>\n",
       "    <tr>\n",
       "      <th>7</th>\n",
       "      <td>1.02</td>\n",
       "      <td>54</td>\n",
       "      <td>-8.411799</td>\n",
       "      <td>2.923830</td>\n",
       "      <td>2.514</td>\n",
       "    </tr>\n",
       "    <tr>\n",
       "      <th>8</th>\n",
       "      <td>1.03</td>\n",
       "      <td>54</td>\n",
       "      <td>-8.384732</td>\n",
       "      <td>2.952495</td>\n",
       "      <td>2.602</td>\n",
       "    </tr>\n",
       "    <tr>\n",
       "      <th>9</th>\n",
       "      <td>1.04</td>\n",
       "      <td>54</td>\n",
       "      <td>-8.350246</td>\n",
       "      <td>2.981160</td>\n",
       "      <td>2.642</td>\n",
       "    </tr>\n",
       "    <tr>\n",
       "      <th>10</th>\n",
       "      <td>1.05</td>\n",
       "      <td>54</td>\n",
       "      <td>-8.308485</td>\n",
       "      <td>3.009825</td>\n",
       "      <td>2.680</td>\n",
       "    </tr>\n",
       "  </tbody>\n",
       "</table>\n",
       "</div>"
      ],
      "text/plain": [
       "    scale[-]  atoms[-]  energy[ev/atom]   alat[A]  mom[bohr]\n",
       "0       0.95        54        -8.335615  2.723175      2.041\n",
       "1       0.96        54        -8.391070  2.751840      2.089\n",
       "2       0.97        54        -8.428036  2.780505      2.130\n",
       "3       0.98        54        -8.449284  2.809170      2.191\n",
       "4       0.99        54        -8.456733  2.837835      2.242\n",
       "5       1.00        54        -8.451424  2.866500      2.291\n",
       "6       1.01        54        -8.435316  2.895165      2.356\n",
       "7       1.02        54        -8.411799  2.923830      2.514\n",
       "8       1.03        54        -8.384732  2.952495      2.602\n",
       "9       1.04        54        -8.350246  2.981160      2.642\n",
       "10      1.05        54        -8.308485  3.009825      2.680"
      ]
     },
     "execution_count": 2,
     "metadata": {},
     "output_type": "execute_result"
    }
   ],
   "source": [
    "# read input file. It is recommended to save the E-V data from a calculation in a csv file, \n",
    "# because it is easy to read and independent on platform, code, etc.\n",
    "df = pd.read_csv('3_3_3_fe.csv')\n",
    "df"
   ]
  },
  {
   "cell_type": "code",
   "execution_count": 16,
   "metadata": {},
   "outputs": [
    {
     "name": "stdout",
     "output_type": "stream",
     "text": [
      " Volumes: [20.19419977 20.83864765 21.49666236 22.16838521 22.85395754 23.55352065\n",
      " 24.26721588 24.99518455 25.73756796 26.49450746 27.26614435] and Energies: [-8.33561539 -8.39106979 -8.42803638 -8.44928415 -8.45673325 -8.45142374\n",
      " -8.4353157  -8.41179872 -8.38473167 -8.35024559 -8.30848514]\n"
     ]
    }
   ],
   "source": [
    "volumes = np.array(df['alat[A]']**3)\n",
    "energies = np.array(df['energy[ev/atom]'])\n",
    "print(f' Volumes: {volumes} and Energies: {energies}')"
   ]
  },
  {
   "cell_type": "code",
   "execution_count": 25,
   "metadata": {},
   "outputs": [
    {
     "name": "stdout",
     "output_type": "stream",
     "text": [
      "\u001b[0;31mInit signature:\u001b[0m\n",
      "\u001b[0mEqosBirchMurnaghan\u001b[0m\u001b[0;34m(\u001b[0m\u001b[0;34m\u001b[0m\n",
      "\u001b[0;34m\u001b[0m    \u001b[0mvolumes\u001b[0m\u001b[0;34m:\u001b[0m \u001b[0mnumpy\u001b[0m\u001b[0;34m.\u001b[0m\u001b[0mndarray\u001b[0m\u001b[0;34m,\u001b[0m\u001b[0;34m\u001b[0m\n",
      "\u001b[0;34m\u001b[0m    \u001b[0menergies\u001b[0m\u001b[0;34m:\u001b[0m \u001b[0mnumpy\u001b[0m\u001b[0;34m.\u001b[0m\u001b[0mndarray\u001b[0m\u001b[0;34m,\u001b[0m\u001b[0;34m\u001b[0m\n",
      "\u001b[0;34m\u001b[0m    \u001b[0minitial_value\u001b[0m\u001b[0;34m:\u001b[0m \u001b[0mSequence\u001b[0m \u001b[0;34m=\u001b[0m \u001b[0;32mNone\u001b[0m\u001b[0;34m,\u001b[0m\u001b[0;34m\u001b[0m\n",
      "\u001b[0;34m\u001b[0m\u001b[0;34m)\u001b[0m \u001b[0;34m->\u001b[0m \u001b[0;32mNone\u001b[0m\u001b[0;34m\u001b[0m\u001b[0;34m\u001b[0m\u001b[0m\n",
      "\u001b[0;31mDocstring:\u001b[0m      <no docstring>\n",
      "\u001b[0;31mFile:\u001b[0m           ~/additional_software/wmaee/wmaee/scopes/eos.py\n",
      "\u001b[0;31mType:\u001b[0m           type\n",
      "\u001b[0;31mSubclasses:\u001b[0m     \n"
     ]
    }
   ],
   "source": [
    "# a quick reminder\n",
    "EqosBirchMurnaghan?"
   ]
  },
  {
   "cell_type": "code",
   "execution_count": 24,
   "metadata": {},
   "outputs": [
    {
     "name": "stdout",
     "output_type": "stream",
     "text": [
      "Energy: -8.455873768709683 [eV/atom]\n",
      "Volume: 22.891695688171108 [A^3]\n",
      "Bulk modulus: 0.5510345272076342 []\n"
     ]
    }
   ],
   "source": [
    "eos_bm = EqosBirchMurnaghan(volumes=volumes, energies=energies) # initialize object\n",
    "\n",
    "# get the equlibrium properties you need/want\n",
    "e_eq = eos_bm.E_eq\n",
    "v_eq = eos_bm.V_eq\n",
    "b_eq = eos_bm.K_eq\n",
    "print(f'Energy: {e_eq} [eV/atom]\\nVolume: {v_eq} [A^3]\\nBulk modulus: {b_eq} []')"
   ]
  }
 ],
 "metadata": {
  "kernelspec": {
   "display_name": "Python 3.9.13 ('base')",
   "language": "python",
   "name": "python3"
  },
  "language_info": {
   "codemirror_mode": {
    "name": "ipython",
    "version": 3
   },
   "file_extension": ".py",
   "mimetype": "text/x-python",
   "name": "python",
   "nbconvert_exporter": "python",
   "pygments_lexer": "ipython3",
   "version": "3.9.13"
  },
  "orig_nbformat": 4,
  "vscode": {
   "interpreter": {
    "hash": "8e0d0260e1f3d0b9823b804dc5934a8bd3512d2d0af3147365a0766f6dd8bfcd"
   }
  }
 },
 "nbformat": 4,
 "nbformat_minor": 2
}
