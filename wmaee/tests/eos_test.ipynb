{
 "cells": [
  {
   "cell_type": "markdown",
   "metadata": {},
   "source": [
    "\n",
    "This script shows an example on how to get the equilibrium energy, volume and bulk modulus of a 3 $\\times$ 3 $\\times$ 3 supercell of bcc-FM-Fe using all methods in eos.py!"
   ]
  },
  {
   "cell_type": "code",
   "execution_count": 1,
   "metadata": {},
   "outputs": [],
   "source": [
    "from wmaee.scopes.eos import EqosBirchMurnaghan\n",
    "\n",
    "# Another option to include all Methods from eos.py at the same time.\n",
    "# If you do it this way, you dont need to import numpy as well, because eos.py will import it by default!\n",
    "# from wmaee.scopes import eos\n",
    "\n",
    "import pandas as pd # this package is optional\n",
    "# Since we imported specificely the EqosBirchMurnaghan class from eos.py, we also need to import numpy seperately.\n",
    "import numpy as np"
   ]
  },
  {
   "cell_type": "code",
   "execution_count": 2,
   "metadata": {},
   "outputs": [
    {
     "data": {
      "text/html": [
       "<div>\n",
       "<style scoped>\n",
       "    .dataframe tbody tr th:only-of-type {\n",
       "        vertical-align: middle;\n",
       "    }\n",
       "\n",
       "    .dataframe tbody tr th {\n",
       "        vertical-align: top;\n",
       "    }\n",
       "\n",
       "    .dataframe thead th {\n",
       "        text-align: right;\n",
       "    }\n",
       "</style>\n",
       "<table border=\"1\" class=\"dataframe\">\n",
       "  <thead>\n",
       "    <tr style=\"text-align: right;\">\n",
       "      <th></th>\n",
       "      <th>scale[-]</th>\n",
       "      <th>atoms[-]</th>\n",
       "      <th>energy[ev/atom]</th>\n",
       "      <th>alat[A]</th>\n",
       "      <th>mom[bohr]</th>\n",
       "    </tr>\n",
       "  </thead>\n",
       "  <tbody>\n",
       "    <tr>\n",
       "      <th>0</th>\n",
       "      <td>0.95</td>\n",
       "      <td>54</td>\n",
       "      <td>-8.335615</td>\n",
       "      <td>2.723175</td>\n",
       "      <td>2.041</td>\n",
       "    </tr>\n",
       "    <tr>\n",
       "      <th>1</th>\n",
       "      <td>0.96</td>\n",
       "      <td>54</td>\n",
       "      <td>-8.391070</td>\n",
       "      <td>2.751840</td>\n",
       "      <td>2.089</td>\n",
       "    </tr>\n",
       "    <tr>\n",
       "      <th>2</th>\n",
       "      <td>0.97</td>\n",
       "      <td>54</td>\n",
       "      <td>-8.428036</td>\n",
       "      <td>2.780505</td>\n",
       "      <td>2.130</td>\n",
       "    </tr>\n",
       "    <tr>\n",
       "      <th>3</th>\n",
       "      <td>0.98</td>\n",
       "      <td>54</td>\n",
       "      <td>-8.449284</td>\n",
       "      <td>2.809170</td>\n",
       "      <td>2.191</td>\n",
       "    </tr>\n",
       "    <tr>\n",
       "      <th>4</th>\n",
       "      <td>0.99</td>\n",
       "      <td>54</td>\n",
       "      <td>-8.456733</td>\n",
       "      <td>2.837835</td>\n",
       "      <td>2.242</td>\n",
       "    </tr>\n",
       "    <tr>\n",
       "      <th>5</th>\n",
       "      <td>1.00</td>\n",
       "      <td>54</td>\n",
       "      <td>-8.451424</td>\n",
       "      <td>2.866500</td>\n",
       "      <td>2.291</td>\n",
       "    </tr>\n",
       "    <tr>\n",
       "      <th>6</th>\n",
       "      <td>1.01</td>\n",
       "      <td>54</td>\n",
       "      <td>-8.435316</td>\n",
       "      <td>2.895165</td>\n",
       "      <td>2.356</td>\n",
       "    </tr>\n",
       "    <tr>\n",
       "      <th>7</th>\n",
       "      <td>1.02</td>\n",
       "      <td>54</td>\n",
       "      <td>-8.411799</td>\n",
       "      <td>2.923830</td>\n",
       "      <td>2.514</td>\n",
       "    </tr>\n",
       "    <tr>\n",
       "      <th>8</th>\n",
       "      <td>1.03</td>\n",
       "      <td>54</td>\n",
       "      <td>-8.384732</td>\n",
       "      <td>2.952495</td>\n",
       "      <td>2.602</td>\n",
       "    </tr>\n",
       "    <tr>\n",
       "      <th>9</th>\n",
       "      <td>1.04</td>\n",
       "      <td>54</td>\n",
       "      <td>-8.350246</td>\n",
       "      <td>2.981160</td>\n",
       "      <td>2.642</td>\n",
       "    </tr>\n",
       "    <tr>\n",
       "      <th>10</th>\n",
       "      <td>1.05</td>\n",
       "      <td>54</td>\n",
       "      <td>-8.308485</td>\n",
       "      <td>3.009825</td>\n",
       "      <td>2.680</td>\n",
       "    </tr>\n",
       "  </tbody>\n",
       "</table>\n",
       "</div>"
      ],
      "text/plain": [
       "    scale[-]  atoms[-]  energy[ev/atom]   alat[A]  mom[bohr]\n",
       "0       0.95        54        -8.335615  2.723175      2.041\n",
       "1       0.96        54        -8.391070  2.751840      2.089\n",
       "2       0.97        54        -8.428036  2.780505      2.130\n",
       "3       0.98        54        -8.449284  2.809170      2.191\n",
       "4       0.99        54        -8.456733  2.837835      2.242\n",
       "5       1.00        54        -8.451424  2.866500      2.291\n",
       "6       1.01        54        -8.435316  2.895165      2.356\n",
       "7       1.02        54        -8.411799  2.923830      2.514\n",
       "8       1.03        54        -8.384732  2.952495      2.602\n",
       "9       1.04        54        -8.350246  2.981160      2.642\n",
       "10      1.05        54        -8.308485  3.009825      2.680"
      ]
     },
     "execution_count": 2,
     "metadata": {},
     "output_type": "execute_result"
    }
   ],
   "source": [
    "# read input file. It is recommended to save the E-V data from a calculation (any DFT code, e.g. VASP, Wien2k, GreenAlm, etc.) \n",
    "# in a csv file, ecause it is easy to read and independent on platform, code, etc.\n",
    "df = pd.read_csv('3_3_3_fe.csv')\n",
    "df"
   ]
  },
  {
   "cell_type": "code",
   "execution_count": 3,
   "metadata": {},
   "outputs": [
    {
     "name": "stdout",
     "output_type": "stream",
     "text": [
      " Volumes: [20.19419977 20.83864765 21.49666236 22.16838521 22.85395754 23.55352065\n",
      " 24.26721588 24.99518455 25.73756796 26.49450746 27.26614435] and Energies: [-8.33561539 -8.39106979 -8.42803638 -8.44928415 -8.45673325 -8.45142374\n",
      " -8.4353157  -8.41179872 -8.38473167 -8.35024559 -8.30848514]\n"
     ]
    }
   ],
   "source": [
    "volumes = np.array(df['alat[A]']**3)\n",
    "energies = np.array(df['energy[ev/atom]'])\n",
    "print(f' Volumes: {volumes} and Energies: {energies}')"
   ]
  },
  {
   "cell_type": "markdown",
   "metadata": {},
   "source": [
    "**Information on classes and functions**\n",
    "\n",
    "This is how you can check the class atributes and functions. Simply add a ? after the class name or function.\n",
    "\n",
    "In jupyter notebook the information will be printed below your cell. Simply remove the # in the next lines and execute the cell to see the output.\n",
    "\n",
    "Examples:"
   ]
  },
  {
   "cell_type": "code",
   "execution_count": 4,
   "metadata": {},
   "outputs": [],
   "source": [
    "#EqosBirchMurnaghan?\n",
    "#EqosBirchMurnaghan.V_eq?\n",
    "#EqosBirchMurnaghan._pressure?"
   ]
  },
  {
   "cell_type": "markdown",
   "metadata": {},
   "source": [
    "## Birch-Murnaghan EOS\n",
    "\n",
    "For a detailed description of this method, you can check out our Wiki.js page:\n",
    "\n",
    "https://cms-wiki.de/en/methods/eos\n",
    "\n",
    "David, in case you want (or you want me) to put in here more information, let me know;) "
   ]
  },
  {
   "cell_type": "code",
   "execution_count": 5,
   "metadata": {},
   "outputs": [
    {
     "name": "stdout",
     "output_type": "stream",
     "text": [
      "Energy: -8.455873768709683 [eV/atom]\n",
      "Volume: 22.891695688171108 [A^3]\n",
      "Bulk modulus: 0.5510345272076342 [eV/A^3]\n",
      "Pressure derivative of bulk modulus: 6.681913540804855 [-]\n"
     ]
    }
   ],
   "source": [
    "bm_eos = EqosBirchMurnaghan(volumes=volumes, energies=energies) # initialize object\n",
    "\n",
    "# Get the equlibrium properties you need/want\n",
    "e0_bm = bm_eos.E_eq\n",
    "v0_bm = bm_eos.V_eq\n",
    "b0_bm = bm_eos.K_eq\n",
    "bp_bm = bm_eos.Kp_eq\n",
    "\n",
    "print(f'Energy: {e0_bm} [eV/atom]\\nVolume: {v0_bm} [A^3]\\nBulk modulus: {b0_bm} [eV/A^3]\\nPressure derivative of bulk modulus: {bp_bm} [-]')"
   ]
  },
  {
   "cell_type": "code",
   "execution_count": 6,
   "metadata": {},
   "outputs": [
    {
     "name": "stdout",
     "output_type": "stream",
     "text": [
      "The calculated equilibrium lattice constant is 2.839396142532309 [A]\n",
      "The experimental lattice constant is 2.866 [A]\n"
     ]
    }
   ],
   "source": [
    "# Lets compare the equilibrum lattice constant with results from experiments:\n",
    "\n",
    "a0_bm = v0_bm**(1/3)\n",
    "print(f'The calculated equilibrium lattice constant is {a0_bm} [A]\\nThe experimental lattice constant is 2.866 [A]')\n",
    "\n",
    "# Note, that the Fe-system is a special case, where the PBE-GGA $E_{xc}$ functional underestimates the lattice constant!"
   ]
  },
  {
   "cell_type": "markdown",
   "metadata": {},
   "source": [
    "## Murnaghan EOS\n",
    "\n",
    "For a detailed description of this method, you can check out our Wiki.js page:\n",
    "\n",
    "https://cms-wiki.de/en/methods/eos"
   ]
  },
  {
   "cell_type": "code",
   "execution_count": 7,
   "metadata": {},
   "outputs": [],
   "source": [
    "from wmaee.scopes.eos import EqosMurnaghan"
   ]
  },
  {
   "cell_type": "code",
   "execution_count": 8,
   "metadata": {},
   "outputs": [
    {
     "name": "stdout",
     "output_type": "stream",
     "text": [
      "V_eq = 22.88337747922781 [A^3]\n",
      "E_eq = -8.45547888116955 [eV/atom]\n",
      "B_eq = 0.5379178280279309 [eV/A^3]\n",
      "Bp_eq = 6.935820153471521 [-]\n"
     ]
    }
   ],
   "source": [
    "# we use the same input csv file as before\n",
    "# Again, we must create an object of the class, and initialize it\n",
    "m_eos = EqosMurnaghan(volumes=volumes, energies=energies)\n",
    "\n",
    "# now we can extract the equilibrium data out of the fit\n",
    "v0_m = m_eos.V_eq\n",
    "e0_m = m_eos.E_eq\n",
    "b0_m = m_eos.K_eq\n",
    "bp_m = m_eos.Kp_eq\n",
    "\n",
    "print(f'V_eq = {v0_m} [A^3]\\nE_eq = {e0_m} [eV/atom]\\nB_eq = {b0_m} [eV/A^3]\\nBp_eq = {bp_m} [-]')\n"
   ]
  },
  {
   "cell_type": "markdown",
   "metadata": {},
   "source": [
    "## Polynomial EOS\n",
    "\n",
    "For a detailed description of this method, you can check out our Wiki.js page:\n",
    "\n",
    "https://cms-wiki.de/en/methods/eos"
   ]
  },
  {
   "cell_type": "code",
   "execution_count": 9,
   "metadata": {},
   "outputs": [],
   "source": [
    "from wmaee.scopes.eos import EqosPolynomial"
   ]
  },
  {
   "cell_type": "code",
   "execution_count": 10,
   "metadata": {},
   "outputs": [
    {
     "name": "stdout",
     "output_type": "stream",
     "text": [
      "V_eq = 22.947292583797 [A^3]\n",
      "E_eq = -8.456885556923472 [eV/atom]\n",
      "B_eq = 0.5828594277376586 [eV/A^3]\n"
     ]
    }
   ],
   "source": [
    "pol_eos = EqosPolynomial(volumes=volumes, energies=energies)\n",
    "\n",
    "# now we can extract the equilibrium data out of the fit\n",
    "v0_pol = pol_eos.V_eq\n",
    "e0_pol = pol_eos.E_eq\n",
    "b0_pol = pol_eos.K_eq\n",
    "\n",
    "print(f'V_eq = {v0_pol} [A^3]\\nE_eq = {e0_pol} [eV/atom]\\nB_eq = {b0_pol} [eV/A^3]')"
   ]
  },
  {
   "cell_type": "code",
   "execution_count": 12,
   "metadata": {},
   "outputs": [
    {
     "ename": "NameError",
     "evalue": "name 'roots_pol' is not defined",
     "output_type": "error",
     "traceback": [
      "\u001b[0;31m---------------------------------------------------------------------------\u001b[0m",
      "\u001b[0;31mNameError\u001b[0m                                 Traceback (most recent call last)",
      "\u001b[1;32m/home/amin/additional_software/wmaee/wmaee/tests/eos_test.ipynb Zelle 16\u001b[0m in \u001b[0;36m<cell line: 1>\u001b[0;34m()\u001b[0m\n\u001b[0;32m----> <a href='vscode-notebook-cell:/home/amin/additional_software/wmaee/wmaee/tests/eos_test.ipynb#X21sZmlsZQ%3D%3D?line=0'>1</a>\u001b[0m roots_pol()\n",
      "\u001b[0;31mNameError\u001b[0m: name 'roots_pol' is not defined"
     ]
    }
   ],
   "source": []
  },
  {
   "cell_type": "code",
   "execution_count": null,
   "metadata": {},
   "outputs": [
    {
     "data": {
      "text/html": [
       "<div>\n",
       "<style scoped>\n",
       "    .dataframe tbody tr th:only-of-type {\n",
       "        vertical-align: middle;\n",
       "    }\n",
       "\n",
       "    .dataframe tbody tr th {\n",
       "        vertical-align: top;\n",
       "    }\n",
       "\n",
       "    .dataframe thead th {\n",
       "        text-align: right;\n",
       "    }\n",
       "</style>\n",
       "<table border=\"1\" class=\"dataframe\">\n",
       "  <thead>\n",
       "    <tr style=\"text-align: right;\">\n",
       "      <th></th>\n",
       "      <th>Method</th>\n",
       "      <th>V0 [A^3]</th>\n",
       "      <th>E0 [eV/atom]</th>\n",
       "      <th>B0 [eV/A^3]</th>\n",
       "      <th>Bp [-]</th>\n",
       "    </tr>\n",
       "  </thead>\n",
       "  <tbody>\n",
       "    <tr>\n",
       "      <th>0</th>\n",
       "      <td>BM-EOS</td>\n",
       "      <td>22.891696</td>\n",
       "      <td>-8.455874</td>\n",
       "      <td>0.551035</td>\n",
       "      <td>6.681914</td>\n",
       "    </tr>\n",
       "    <tr>\n",
       "      <th>1</th>\n",
       "      <td>M-EOS</td>\n",
       "      <td>22.883377</td>\n",
       "      <td>-8.455479</td>\n",
       "      <td>0.537918</td>\n",
       "      <td>6.935820</td>\n",
       "    </tr>\n",
       "    <tr>\n",
       "      <th>2</th>\n",
       "      <td>Pol-EOS</td>\n",
       "      <td>22.947293</td>\n",
       "      <td>-8.456886</td>\n",
       "      <td>0.5828594277376586</td>\n",
       "      <td>NaN</td>\n",
       "    </tr>\n",
       "  </tbody>\n",
       "</table>\n",
       "</div>"
      ],
      "text/plain": [
       "    Method   V0 [A^3]  E0 [eV/atom]         B0 [eV/A^3]    Bp [-]\n",
       "0   BM-EOS  22.891696     -8.455874            0.551035  6.681914\n",
       "1    M-EOS  22.883377     -8.455479            0.537918  6.935820\n",
       "2  Pol-EOS  22.947293     -8.456886  0.5828594277376586       NaN"
      ]
     },
     "execution_count": 18,
     "metadata": {},
     "output_type": "execute_result"
    }
   ],
   "source": [
    "### Summary of the fits\n",
    "results = {\n",
    "    'Method' : ['BM-EOS', 'M-EOS', 'Pol-EOS'],\n",
    "    'V0 [A^3]' : [v0_bm, v0_m, v0_pol],\n",
    "    'E0 [eV/atom]' : [e0_bm, e0_m, e0_pol],\n",
    "    'B0 [eV/A^3]' : [b0_bm, b0_m, b0_pol],\n",
    "    'Bp [-]' : [bp_bm, bp_m, None]\n",
    "}\n",
    "\n",
    "# Create Dataframe\n",
    "summary = pd.DataFrame(results)\n",
    "summary"
   ]
  }
 ],
 "metadata": {
  "kernelspec": {
   "display_name": "Python 3.9.13 ('base')",
   "language": "python",
   "name": "python3"
  },
  "language_info": {
   "codemirror_mode": {
    "name": "ipython",
    "version": 3
   },
   "file_extension": ".py",
   "mimetype": "text/x-python",
   "name": "python",
   "nbconvert_exporter": "python",
   "pygments_lexer": "ipython3",
   "version": "3.9.13"
  },
  "orig_nbformat": 4,
  "vscode": {
   "interpreter": {
    "hash": "8e0d0260e1f3d0b9823b804dc5934a8bd3512d2d0af3147365a0766f6dd8bfcd"
   }
  }
 },
 "nbformat": 4,
 "nbformat_minor": 2
}
